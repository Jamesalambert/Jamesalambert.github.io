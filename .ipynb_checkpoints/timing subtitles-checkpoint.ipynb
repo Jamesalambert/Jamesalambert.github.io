{
 "cells": [
  {
   "cell_type": "code",
   "execution_count": 50,
   "metadata": {},
   "outputs": [],
   "source": [
    "step = 0.01\n",
    "numberOfSeconds = 20\n",
    "numberOfSubtitles = int(numberOfSeconds / step)\n",
    "\n",
    "file = open(\"gravity.srt\", 'w')\n",
    "\n",
    "startTime = 0.0\n",
    "for stage in range(1,numberOfSubtitles):\n",
    "    \n",
    "    endTime = startTime + step\n",
    "    \n",
    "    seconds = int(endTime)\n",
    "    milliseconds = int(endTime * 1000) % 1000\n",
    "\n",
    "    inTime = f\"00:00:{seconds:02},{milliseconds:03}\"\n",
    "    outTime = f\"00:00:{seconds:02},{int(milliseconds + step * 1000):03}\"\n",
    "    subtitle = f\"{seconds:02},{milliseconds:03}\"\n",
    "    file.write(f\"{stage}\\n{inTime} --> {outTime}\\n{subtitle}\\n\\n\")\n",
    "    \n",
    "    startTime += step\n",
    "\n",
    "file.close()"
   ]
  },
  {
   "cell_type": "code",
   "execution_count": 10,
   "metadata": {},
   "outputs": [
    {
     "name": "stdout",
     "output_type": "stream",
     "text": [
      "00\n",
      "00\n",
      "00\n",
      "00\n",
      "00\n",
      "00\n",
      "00\n",
      "00\n",
      "00\n",
      "00\n",
      "01\n",
      "01\n",
      "01\n",
      "01\n",
      "01\n",
      "01\n",
      "01\n",
      "01\n",
      "01\n",
      "01\n"
     ]
    }
   ],
   "source": [
    "t = 0.01\n",
    "for i in range(90,110):\n",
    "    second = int(i * t)\n",
    "    print(f\"{second :02}\")"
   ]
  },
  {
   "cell_type": "code",
   "execution_count": 25,
   "metadata": {},
   "outputs": [
    {
     "data": {
      "text/plain": [
       "100.0"
      ]
     },
     "execution_count": 25,
     "metadata": {},
     "output_type": "execute_result"
    }
   ],
   "source": [
    "1 / 0.01"
   ]
  },
  {
   "cell_type": "code",
   "execution_count": null,
   "metadata": {},
   "outputs": [],
   "source": []
  }
 ],
 "metadata": {
  "kernelspec": {
   "display_name": "Python 3",
   "language": "python",
   "name": "python3"
  },
  "language_info": {
   "codemirror_mode": {
    "name": "ipython",
    "version": 3
   },
   "file_extension": ".py",
   "mimetype": "text/x-python",
   "name": "python",
   "nbconvert_exporter": "python",
   "pygments_lexer": "ipython3",
   "version": "3.8.5"
  }
 },
 "nbformat": 4,
 "nbformat_minor": 4
}
